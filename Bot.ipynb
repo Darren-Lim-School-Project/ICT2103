{
 "cells": [
  {
   "cell_type": "code",
   "execution_count": 3,
   "metadata": {},
   "outputs": [],
   "source": [
    "# Import and initialization\n",
    "\n",
    "from telegram import Update\n",
    "from telegram.ext import Updater, CommandHandler, CallbackContext\n",
    "\n",
    "updater = Updater('2140713559:AAFunBF0TFdivjUeskd1TLNtKwwfhT_bnIE')"
   ]
  },
  {
   "cell_type": "code",
   "execution_count": 4,
   "metadata": {},
   "outputs": [],
   "source": [
    "def hello(update: Update, context: CallbackContext) -> None:\n",
    "    update.message.reply_text(f'Hello {update.effective_user.first_name}')"
   ]
  },
  {
   "cell_type": "code",
   "execution_count": 5,
   "metadata": {},
   "outputs": [],
   "source": [
    "updater.dispatcher.add_handler(CommandHandler('helloz', hello))\n",
    "\n",
    "updater.start_polling()\n",
    "updater.idle()"
   ]
  }
 ],
 "metadata": {
  "interpreter": {
   "hash": "aee8b7b246df8f9039afb4144a1f6fd8d2ca17a180786b69acc140d282b71a49"
  },
  "kernelspec": {
   "display_name": "Python 3.10.0 64-bit",
   "language": "python",
   "name": "python3"
  },
  "language_info": {
   "name": "python",
   "version": "3.10.0"
  },
  "orig_nbformat": 4
 },
 "nbformat": 4,
 "nbformat_minor": 2
}
