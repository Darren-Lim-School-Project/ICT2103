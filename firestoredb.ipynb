{
 "cells": [
  {
   "cell_type": "code",
   "execution_count": 1,
   "metadata": {},
   "outputs": [
    {
     "name": "stderr",
     "output_type": "stream",
     "text": [
      "C:\\Users\\KendrickLee\\AppData\\Local\\Programs\\Python\\Python39\\lib\\site-packages\\python_telegram_bot-13.8.1-py3.9.egg\\telegram\\utils\\request.py:49: UserWarning: python-telegram-bot is using upstream urllib3. This is allowed but not supported by python-telegram-bot maintainers.\n"
     ]
    }
   ],
   "source": [
    "import firebase_admin\n",
    "from firebase_admin import credentials\n",
    "from firebase_admin import firestore\n",
    "\n",
    "from telegram.ext import Updater, CommandHandler, MessageHandler, Filters, CallbackQueryHandler, CallbackContext, commandhandler\n",
    "import telegram\n",
    "from datetime import datetime\n",
    "from firebase_admin import db\n",
    "from telegram import InlineKeyboardButton, InlineKeyboardMarkup, Update, ParseMode"
   ]
  },
  {
   "cell_type": "code",
   "execution_count": 2,
   "metadata": {},
   "outputs": [],
   "source": [
    "# Use a service account\n",
    "cred = credentials.Certificate('./ict2103t32-e09d5-firebase-adminsdk-kl22x-4467b58195.json')\n",
    "firebase_admin.initialize_app(cred)\n",
    "\n",
    "db = firestore.client()\n"
   ]
  },
  {
   "cell_type": "code",
   "execution_count": 4,
   "metadata": {},
   "outputs": [
    {
     "data": {
      "text/plain": [
       "update_time {\n",
       "  seconds: 1637697214\n",
       "  nanos: 247666000\n",
       "}"
      ]
     },
     "execution_count": 4,
     "metadata": {},
     "output_type": "execute_result"
    }
   ],
   "source": [
    "first_name = \"zxcvb\"\n",
    "\n",
    "doc_ref = db.collection(u'users').document(first_name)\n",
    "doc_ref.set({\n",
    "        u'first': u'Ada',\n",
    "        u'last': u'Lovelace',\n",
    "        u'born': 1815\n",
    "})"
   ]
  }
 ],
 "metadata": {
  "interpreter": {
   "hash": "4e9b1c987455cffd706b916efbe035cbcbf2a747a32a3fc39cdcb898f7ea11f9"
  },
  "kernelspec": {
   "display_name": "Python 3.9.5 64-bit",
   "language": "python",
   "name": "python3"
  },
  "language_info": {
   "codemirror_mode": {
    "name": "ipython",
    "version": 3
   },
   "file_extension": ".py",
   "mimetype": "text/x-python",
   "name": "python",
   "nbconvert_exporter": "python",
   "pygments_lexer": "ipython3",
   "version": "3.9.5"
  },
  "orig_nbformat": 4
 },
 "nbformat": 4,
 "nbformat_minor": 2
}
