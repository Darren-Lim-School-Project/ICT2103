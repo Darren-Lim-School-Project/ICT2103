{
 "cells": [
  {
   "cell_type": "code",
   "execution_count": 1,
   "id": "6fa8212b",
   "metadata": {},
   "outputs": [],
   "source": [
    "#All the imports\n",
    "\n",
    "import sqlite3"
   ]
  },
  {
   "cell_type": "code",
   "execution_count": 2,
   "id": "e033ce9e",
   "metadata": {},
   "outputs": [],
   "source": [
    "con = sqlite3.connect('ICT2103_Group32.db')\n",
    "cur = con.cursor()\n",
    "\n",
    "con.commit()"
   ]
  },
  {
   "cell_type": "code",
   "execution_count": 3,
   "id": "f5ced050",
   "metadata": {},
   "outputs": [],
   "source": [
    "# Create CUSTOMERS table\n",
    "cur.execute('''CREATE TABLE IF NOT EXISTS Customers\n",
    "               (customerID INTEGER PRIMARY KEY AUTOINCREMENT, \n",
    "               chatID text,\n",
    "               fname text,\n",
    "               lname text,\n",
    "               email text,\n",
    "               loyaltyType INTEGER,\n",
    "               firstAccessedDate DateTime)''')\n",
    "\n",
    "# Create CUSTOMERS_ACCESS_RECORDS table\n",
    "cur.execute('''CREATE TABLE IF NOT EXISTS Customers_Access_Records \n",
    "                (accessID INTEGER,\n",
    "                customerID INTEGER,\n",
    "                accessDate DateTime,\n",
    "                PRIMARY KEY(accessID AUTOINCREMENT),\n",
    "                FOREIGN KEY(customerID) REFERENCES Customers(customerID))''')\n",
    "\n",
    "# Create SHOPPING_CART table\n",
    "cur.execute('''CREATE TABLE IF NOT EXISTS Shopping_Cart\n",
    "               (cartID INTEGER PRIMARY KEY AUTOINCREMENT, \n",
    "               customerID INTEGER,\n",
    "               amount real,\n",
    "               creationDate DateTime,\n",
    "               FOREIGN KEY (customerID) REFERENCES Customers(customerID))''')\n",
    "\n",
    "# Create COMPLETED_CART table\n",
    "cur.execute('''CREATE TABLE IF NOT EXISTS Completed_Cart\n",
    "               (completedCartID INTEGER PRIMARY KEY AUTOINCREMENT,\n",
    "               transactionID INTEGER,\n",
    "               cartID INTEGER, \n",
    "               checkoutDate DateTime,\n",
    "               FOREIGN KEY (transactionID) REFERENCES Transaction_Info(transactionID),\n",
    "               FOREIGN KEY (cartID) REFERENCES Shopping_Cart(cartID))''')\n",
    "\n",
    "# Create TRANSACTION_INFO table\n",
    "cur.execute('''CREATE TABLE IF NOT EXISTS Transaction_Info\n",
    "               (transactionID INTEGER PRIMARY KEY AUTOINCREMENT,\n",
    "               cartID text,\n",
    "               shippingAddress text,\n",
    "               FOREIGN KEY (cartID) REFERENCES Shopping_Cart(cartID))''')\n",
    "\n",
    "# Create PRODUCTS table\n",
    "cur.execute('''CREATE TABLE IF NOT EXISTS Products\n",
    "               (productID INTEGER PRIMARY KEY AUTOINCREMENT,\n",
    "               productName text,\n",
    "               productPrice real,\n",
    "               promotion INTEGER, \n",
    "               category text,\n",
    "               description text,\n",
    "               inStock INTEGER)''')\n",
    "\n",
    "#Create CART_CONTENTS table (Shopping Cart Contains Products)\n",
    "cur.execute('''CREATE TABLE IF NOT EXISTS Cart_Contents\n",
    "               (cartID INTEGER,\n",
    "               productID INTEGER,\n",
    "               quantity INTEGER,\n",
    "               FOREIGN KEY (cartID) REFERENCES Shopping_Cart(cartID),\n",
    "               FOREIGN KEY (productID) REFERENCES Products(productID))''')\n",
    "\n",
    "#Create CART_TRANSACTION table (Transaction Info For Completed Carts)\n",
    "cur.execute('''CREATE TABLE IF NOT EXISTS Cart_Transaction\n",
    "               (completedCartID INTEGER,\n",
    "               transactionID INTEGER,\n",
    "               FOREIGN KEY (completedCartID) REFERENCES Completed_Cart(completedCartID),\n",
    "               FOREIGN KEY (transactionID) REFERENCES Transaction_Info(transactionID))''')\n",
    "\n",
    "\n",
    "\n",
    "# Insert a row of data\n",
    "# cur.execute(\"INSERT INTO stocks VALUES ('2006-01-05','BUY','RHAT',100,35.14)\")\n",
    "\n",
    "# Save (commit) the changes\n",
    "con.commit()"
   ]
  },
  {
   "cell_type": "code",
   "execution_count": 4,
   "id": "a8d23bce",
   "metadata": {},
   "outputs": [],
   "source": [
    "# Create data for Customers table\n",
    "#cur.execute(\"INSERT INTO Customers (fname, lname, loyaltyType, accountCreationDate) VALUES ('Darren', 'Lim', 1, '2021-25-11 00:52:03')\")\n",
    "\n",
    "# Create data for Products table\n",
    "cur.execute(\"INSERT INTO Products (productName, productPrice, promotion, category, description, instock) VALUES ('Disney Legato Large Mini Shoulder Bag', 109.00, 5, 'Mickey Mouse and Friends', 'Synthetic leather × Embossed design', 10)\")\n",
    "cur.execute(\"INSERT INTO Products (productName, productPrice, promotion, category, description, instock) VALUES ('Disney Anello Square Mini Shoulder Bag', 95.00, 5, 'Mickey Mouse and Friends', 'High density nylon fabric x screen print', 10)\")\n",
    "cur.execute(\"INSERT INTO Products (productName, productPrice, promotion, category, description, instock) VALUES ('Disney Mickey - Musical Notes (Adult)', 19.00, 0, 'Mickey Mouse and Friends', 'Disney Collection', 10)\")\n",
    "con.commit()\n",
    "cur.execute(\"INSERT INTO Products (productName, productPrice, promotion, category, description, instock) VALUES ('Pixar Ball Silk Tie For Adutlts', 44.99, 5, 'Disney and Pixar', 'High quality silk that can be machine washed', 10)\")\n",
    "cur.execute(\"INSERT INTO Products (productName, productPrice, promotion, category, description, instock) VALUES ('Jessie Action Figure', 28.00, 5, 'Disney and Pixar', 'Batteries sold separately', 10)\")\n",
    "cur.execute(\"INSERT INTO Products (productName, productPrice, promotion, category, description, instock) VALUES ('Buzz Lightyear Action Figure', 12.95, 0, 'Disney and Pixar', 'Batteries sold separately', 10)\")\n",
    "con.commit()\n",
    "cur.execute(\"INSERT INTO Products (productName, productPrice, promotion, category, description, instock) VALUES ('Infinity Gauntlet', 109.00, 5, 'Marvel', 'Glows in the dark', 10)\")\n",
    "cur.execute(\"INSERT INTO Products (productName, productPrice, promotion, category, description, instock) VALUES ('Heart of Iron Man', 42.00, 5, 'Marvel', 'Does not glow in the dark', 10)\")\n",
    "cur.execute(\"INSERT INTO Products (productName, productPrice, promotion, category, description, instock) VALUES ('Groot Plushie', 35.99, 0, 'Marvel', 'Are you groot', 10)\")\n",
    "con.commit()\n",
    "cur.execute(\"INSERT INTO Products (productName, productPrice, promotion, category, description, instock) VALUES ('Olaf 50cm Plushie', 110.99, 5, 'Frozen', 'Do you want to build a snowman', 10)\")\n",
    "cur.execute(\"INSERT INTO Products (productName, productPrice, promotion, category, description, instock) VALUES ('Elsa tiara', 25.00, 5, 'Frozen', 'Let it gooo', 10)\")\n",
    "cur.execute(\"INSERT INTO Products (productName, productPrice, promotion, category, description, instock) VALUES ('Sven Talking Action Figure', 19.00, 0, 'Frozen', 'Batteries sold separately', 10)\")\n",
    "con.commit()"
   ]
  },
  {
   "cell_type": "code",
   "execution_count": 5,
   "id": "65b30c9f",
   "metadata": {},
   "outputs": [],
   "source": [
    "class getMickeyMouse():\n",
    "    def __init__(self):\n",
    "        cur.execute(\"SELECT * FROM Products WHERE category = 'Mickey Mouse and Friends'\")\n",
    "        return cur.fetchall()\n",
    "\n"
   ]
  },
  {
   "cell_type": "code",
   "execution_count": 6,
   "id": "28ac9d3c",
   "metadata": {},
   "outputs": [],
   "source": [
    "# We can also close the connection if we are done with it.\n",
    "# Just be sure any changes have been committed or they will be lost.\n",
    "con.close()"
   ]
  }
 ],
 "metadata": {
  "kernelspec": {
   "display_name": "Python 3 (ipykernel)",
   "language": "python",
   "name": "python3"
  },
  "language_info": {
   "codemirror_mode": {
    "name": "ipython",
    "version": 3
   },
   "file_extension": ".py",
   "mimetype": "text/x-python",
   "name": "python",
   "nbconvert_exporter": "python",
   "pygments_lexer": "ipython3",
   "version": "3.10.0"
  }
 },
 "nbformat": 4,
 "nbformat_minor": 5
}
