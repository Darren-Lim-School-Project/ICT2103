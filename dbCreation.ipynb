{
 "cells": [
  {
   "cell_type": "code",
   "execution_count": 9,
   "id": "6fa8212b",
   "metadata": {},
   "outputs": [],
   "source": [
    "#All the imports\n",
    "\n",
    "import sqlite3"
   ]
  },
  {
   "cell_type": "code",
   "execution_count": 10,
   "id": "e033ce9e",
   "metadata": {},
   "outputs": [],
   "source": [
    "con = sqlite3.connect('ICT2103_Group32.db')\n",
    "cur = con.cursor()\n",
    "\n",
    "con.commit()"
   ]
  },
  {
   "cell_type": "code",
   "execution_count": 11,
   "id": "f5ced050",
   "metadata": {},
   "outputs": [],
   "source": [
    "# Create CUSTOMERS table\n",
    "cur.execute('''CREATE TABLE IF NOT EXISTS Customers\n",
    "               (customerID INTEGER PRIMARY KEY AUTOINCREMENT, \n",
    "               chatID text,\n",
    "               fname text,\n",
    "               lname text,\n",
    "               email text,\n",
    "               loyaltyType INTEGER,\n",
    "               firstAccessedDate DateTime)''')\n",
    "\n",
    "# Create CUSTOMERS_ACCESS_RECORDS table\n",
    "cur.execute('''CREATE TABLE IF NOT EXISTS Customers_Access_Records\n",
    "               (accessID INTEGER PRIMARY KEY AUTOINCREMENT, \n",
    "               customerID INTEGER,\n",
    "               accessDate DateTime,\n",
    "               FOREIGN KEY (customerID) REFERENCES Customers(customerID))''')\n",
    "\n",
    "# Create SHOPPING_CART table\n",
    "cur.execute('''CREATE TABLE IF NOT EXISTS Shopping_Cart\n",
    "               (cartID INTEGER PRIMARY KEY AUTOINCREMENT, \n",
    "               customerID INTEGER,\n",
    "               amount real,\n",
    "               creationDate DateTime,\n",
    "               FOREIGN KEY (customerID) REFERENCES Customers(customerID))''')\n",
    "\n",
    "# Create ABANDONED_CART table\n",
    "cur.execute('''CREATE TABLE IF NOT EXISTS Abandoned_Cart\n",
    "               (abandonedCartID INTEGER PRIMARY KEY AUTOINCREMENT,\n",
    "               cartID INTEGER, \n",
    "               lastAccessedDate DateTime,\n",
    "               FOREIGN KEY (cartID) REFERENCES Shopping_Cart(cartID))''')\n",
    "\n",
    "# Create COMPLETED_CART table\n",
    "cur.execute('''CREATE TABLE IF NOT EXISTS Completed_Cart\n",
    "               (completedCartID INTEGER PRIMARY KEY AUTOINCREMENT,\n",
    "               cartID INTEGER, \n",
    "               checkoutDate DateTime,\n",
    "               FOREIGN KEY (cartID) REFERENCES Shopping_Cart(cartID))''')\n",
    "\n",
    "# Create TRANSACTION_INFO table\n",
    "cur.execute('''CREATE TABLE IF NOT EXISTS Transaction_Info\n",
    "               (transactionID INTEGER PRIMARY KEY AUTOINCREMENT,\n",
    "               completedCartID text,\n",
    "               paymentType text, \n",
    "               shippingAddress DateTime,\n",
    "               discountApplied text,\n",
    "               FOREIGN KEY (completedCartID) REFERENCES Completed_Cart(completedCartID))''')\n",
    "\n",
    "# Create PRODUCTS table\n",
    "cur.execute('''CREATE TABLE IF NOT EXISTS Products\n",
    "               (productID INTEGER PRIMARY KEY AUTOINCREMENT,\n",
    "               productName text,\n",
    "               productPrice real,\n",
    "               promotion INTEGER, \n",
    "               category text,\n",
    "               description text,\n",
    "               inStock INTEGER)''')\n",
    "\n",
    "#Create CART_CONTENTS table (Shopping Cart Contains Products)\n",
    "cur.execute('''CREATE TABLE IF NOT EXISTS Cart_Contents\n",
    "               (cartID INTEGER,\n",
    "               productID INTEGER,\n",
    "               quantity INTEGER,\n",
    "               FOREIGN KEY (cartID) REFERENCES Shopping_Cart(cartID),\n",
    "               FOREIGN KEY (productID) REFERENCES Products(productID))''')\n",
    "\n",
    "#Create CART_TRANSACTION table (Transaction Info For Completed Carts)\n",
    "cur.execute('''CREATE TABLE IF NOT EXISTS Cart_Transaction\n",
    "               (completedCartID INTEGER,\n",
    "               transactionID INTEGER,\n",
    "               FOREIGN KEY (completedCartID) REFERENCES Completed_Cart(completedCartID),\n",
    "               FOREIGN KEY (transactionID) REFERENCES Transaction_Info(transactionID))''')\n",
    "\n",
    "\n",
    "\n",
    "# Insert a row of data\n",
    "# cur.execute(\"INSERT INTO stocks VALUES ('2006-01-05','BUY','RHAT',100,35.14)\")\n",
    "\n",
    "# Save (commit) the changes\n",
    "con.commit()"
   ]
  },
  {
   "cell_type": "code",
   "execution_count": 12,
   "id": "a8d23bce",
   "metadata": {},
   "outputs": [
    {
     "ename": "IntegrityError",
     "evalue": "UNIQUE constraint failed: Products.productID",
     "output_type": "error",
     "traceback": [
      "\u001b[1;31m---------------------------------------------------------------------------\u001b[0m",
      "\u001b[1;31mIntegrityError\u001b[0m                            Traceback (most recent call last)",
      "\u001b[1;32m~\\AppData\\Local\\Temp/ipykernel_17968/2080002708.py\u001b[0m in \u001b[0;36m<module>\u001b[1;34m\u001b[0m\n\u001b[0;32m      3\u001b[0m \u001b[1;33m\u001b[0m\u001b[0m\n\u001b[0;32m      4\u001b[0m \u001b[1;31m# Create data for Products table\u001b[0m\u001b[1;33m\u001b[0m\u001b[1;33m\u001b[0m\u001b[1;33m\u001b[0m\u001b[0m\n\u001b[1;32m----> 5\u001b[1;33m \u001b[0mcur\u001b[0m\u001b[1;33m.\u001b[0m\u001b[0mexecute\u001b[0m\u001b[1;33m(\u001b[0m\u001b[1;34m\"INSERT INTO Products VALUES (1, 'Disney Legato Large Mini Shoulder Bag', 109.00, 5, 'Mickey Mouse and Friends', 'Synthetic leather × Embossed design', 10)\"\u001b[0m\u001b[1;33m)\u001b[0m\u001b[1;33m\u001b[0m\u001b[1;33m\u001b[0m\u001b[0m\n\u001b[0m\u001b[0;32m      6\u001b[0m \u001b[0mcur\u001b[0m\u001b[1;33m.\u001b[0m\u001b[0mexecute\u001b[0m\u001b[1;33m(\u001b[0m\u001b[1;34m\"INSERT INTO Products VALUES (2, 'Disney anello Square Mini Shoulder Bag', 95.00, 5, 'Mickey Mouse and Friends', 'high density nylon fabric x screen print', 10)\"\u001b[0m\u001b[1;33m)\u001b[0m\u001b[1;33m\u001b[0m\u001b[1;33m\u001b[0m\u001b[0m\n\u001b[0;32m      7\u001b[0m \u001b[0mcur\u001b[0m\u001b[1;33m.\u001b[0m\u001b[0mexecute\u001b[0m\u001b[1;33m(\u001b[0m\u001b[1;34m\"INSERT INTO Products VALUES (3, 'Disney Mickey - Musical Notes (Adult)', 19.00, 0, 'Mickey Mouse and Friends', 'Disney Collection', 10)\"\u001b[0m\u001b[1;33m)\u001b[0m\u001b[1;33m\u001b[0m\u001b[1;33m\u001b[0m\u001b[0m\n",
      "\u001b[1;31mIntegrityError\u001b[0m: UNIQUE constraint failed: Products.productID"
     ]
    }
   ],
   "source": [
    "# Create data for Customers table\n",
    "#cur.execute(\"INSERT INTO Customers (fname, lname, loyaltyType, accountCreationDate) VALUES ('Darren', 'Lim', 1, '2021-25-11 00:52:03')\")\n",
    "\n",
    "# Create data for Products table\n",
    "cur.execute(\"INSERT INTO Products VALUES (1, 'Disney Legato Large Mini Shoulder Bag', 109.00, 5, 'Mickey Mouse and Friends', 'Synthetic leather × Embossed design', 10)\")\n",
    "cur.execute(\"INSERT INTO Products VALUES (2, 'Disney anello Square Mini Shoulder Bag', 95.00, 5, 'Mickey Mouse and Friends', 'high density nylon fabric x screen print', 10)\")\n",
    "cur.execute(\"INSERT INTO Products VALUES (3, 'Disney Mickey - Musical Notes (Adult)', 19.00, 0, 'Mickey Mouse and Friends', 'Disney Collection', 10)\")\n",
    "con.commit()\n",
    "# cur.execute(\"INSERT INTO Products VALUES (1,'MSP432 Microcontroller',42.50, 10, 'Hardware','The best ARM processor there is!',35)\")\n",
    "# cur.execute(\"INSERT INTO Products VALUES (2,'HC-SR-04',32.50, 10, 'Hardware','Ultrasonic sensor',65)\")\n",
    "# cur.execute(\"INSERT INTO Products VALUES (3,'Female-Female Jumper Cable',22.50, 10, 'Hardware' ,'Wire to connect the different stuff',45)\")\n",
    "# cur.execute(\"INSERT INTO Products VALUES (4,'Male-Male Jumper Cable',12.50, 10, 'Hardware' , 'Wire to connect the different stuff', 325)\")\n",
    "# cur.execute(\"INSERT INTO Products VALUES (5,'Wheel Encoding',10, 10, 'Hardware' ,'Uses interrupt to let you know your speed' ,15)\")\n",
    "# con.commit()"
   ]
  },
  {
   "cell_type": "code",
   "execution_count": null,
   "id": "65b30c9f",
   "metadata": {},
   "outputs": [],
   "source": [
    "class getMickeyMouse():\n",
    "    def __init__(self):\n",
    "        cur.execute(\"SELECT * FROM Products WHERE category = 'Mickey Mouse and Friends'\")\n",
    "        return cur.fetchall()\n",
    "\n"
   ]
  },
  {
   "cell_type": "code",
   "execution_count": 13,
   "id": "28ac9d3c",
   "metadata": {},
   "outputs": [],
   "source": [
    "# We can also close the connection if we are done with it.\n",
    "# Just be sure any changes have been committed or they will be lost.\n",
    "con.close()"
   ]
  }
 ],
 "metadata": {
  "kernelspec": {
   "display_name": "Python 3 (ipykernel)",
   "language": "python",
   "name": "python3"
  },
  "language_info": {
   "codemirror_mode": {
    "name": "ipython",
    "version": 3
   },
   "file_extension": ".py",
   "mimetype": "text/x-python",
   "name": "python",
   "nbconvert_exporter": "python",
   "pygments_lexer": "ipython3",
   "version": "3.9.1"
  }
 },
 "nbformat": 4,
 "nbformat_minor": 5
}
