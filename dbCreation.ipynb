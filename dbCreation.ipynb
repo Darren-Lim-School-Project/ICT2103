{
 "cells": [
  {
   "cell_type": "code",
   "execution_count": 1,
   "id": "6fa8212b",
   "metadata": {},
   "outputs": [],
   "source": [
    "import sqlite3"
   ]
  },
  {
   "cell_type": "code",
   "execution_count": 2,
<<<<<<< HEAD
   "id": "3401d778",
=======
   "id": "3515be37",
>>>>>>> 5c7c3c4e6b82df485fc85e1495f21cf63d228efd
   "metadata": {},
   "outputs": [],
   "source": [
    "con = sqlite3.connect('ICT2103_Group32.db')\n",
    "cur = con.cursor()"
   ]
  },
  {
   "cell_type": "code",
   "execution_count": 3,
   "id": "3401d778",
   "metadata": {},
   "outputs": [],
   "source": [
    "# Create CUSTOMERS table\n",
    "cur.execute('''CREATE TABLE IF NOT EXISTS Customers\n",
    "               (customerID INTEGER PRIMARY KEY AUTOINCREMENT, \n",
    "               fname text,\n",
    "               lname text,\n",
    "               loyaltyType INTEGER,\n",
    "               accountCreationDate DateTime)''')\n",
    "\n",
    "# Create SHOPPING_CART table\n",
    "cur.execute('''CREATE TABLE IF NOT EXISTS Shopping_Cart\n",
    "               (cartID INTEGER PRIMARY KEY AUTOINCREMENT, \n",
    "               customerID text,\n",
    "               amount real,\n",
    "               creationDate DateTime,\n",
    "               FOREIGN KEY (customerID) REFERENCES Customers(customerID))''')\n",
    "\n",
    "# Create ABANDONED_CART table\n",
    "cur.execute('''CREATE TABLE IF NOT EXISTS Abandoned_Cart\n",
    "               (abandonedCartID INTEGER PRIMARY KEY AUTOINCREMENT,\n",
    "               cartID text, \n",
    "               lastAccessedDate DateTime,\n",
    "               FOREIGN KEY (cartID) REFERENCES Shopping_Cart(cartID))''')\n",
    "\n",
    "# Create COMPLETED_CART table\n",
    "cur.execute('''CREATE TABLE IF NOT EXISTS Completed_Cart\n",
    "               (completedCartID INTEGER PRIMARY KEY AUTOINCREMENT,\n",
    "               cartID text, \n",
    "               checkoutDate DateTime,\n",
    "               FOREIGN KEY (cartID) REFERENCES Shopping_Cart(cartID))''')\n",
    "\n",
    "# Create TRANSACTION_INFO table\n",
    "cur.execute('''CREATE TABLE IF NOT EXISTS Transaction_Info\n",
    "               (transactionID INTEGER PRIMARY KEY AUTOINCREMENT,\n",
    "               completedCartID text,\n",
    "               paymentType text, \n",
    "               shippingAddress DateTime,\n",
    "               discountApplied text,\n",
    "               FOREIGN KEY (completedCartID) REFERENCES Completed_Cart(completedCartID))''')\n",
    "\n",
    "# Create PRODUCTS table\n",
    "cur.execute('''CREATE TABLE IF NOT EXISTS Products\n",
    "               (productID INTEGER PRIMARY KEY AUTOINCREMENT,\n",
    "               productName text,\n",
    "               productPrice real,\n",
    "               promotion INTEGER, \n",
    "               category text,\n",
    "               description text,\n",
    "               inStock INTEGER)''')\n",
    "\n",
    "#Create CART_CONTENTS table (Shopping Cart Contains Products)\n",
    "cur.execute('''CREATE TABLE IF NOT EXISTS Cart_Contents\n",
    "               (cartID INTEGER,\n",
    "               productID INTEGER,\n",
    "               FOREIGN KEY (cartID) REFERENCES Shopping_Cart(cartID),\n",
    "               FOREIGN KEY (productID) REFERENCES Products(productID))''')\n",
    "\n",
    "#Create CART_TRANSACTION table (Transaction Info For Completed Carts)\n",
    "cur.execute('''CREATE TABLE IF NOT EXISTS Cart_Transaction\n",
    "               (completedCartID INTEGER,\n",
    "               transactionID INTEGER,\n",
    "               FOREIGN KEY (completedCartID) REFERENCES Completed_Cart(completedCartID),\n",
    "               FOREIGN KEY (transactionID) REFERENCES Transaction_Info(transactionID))''')\n",
    "\n",
    "\n",
    "\n",
    "# Insert a row of data\n",
    "# cur.execute(\"INSERT INTO stocks VALUES ('2006-01-05','BUY','RHAT',100,35.14)\")\n",
    "\n",
    "# Save (commit) the changes\n",
    "con.commit()"
   ]
  },
  {
   "cell_type": "code",
   "execution_count": 4,
   "id": "abcf4c0a",
   "metadata": {},
   "outputs": [],
   "source": [
    "# # Insert a row of data\n",
    "# cur.execute(\"INSERT INTO Products VALUES (1,'MSP432 Microcontroller',42.50, 10, 'Hardware','The best ARM processor there is!',35)\")\n",
    "# cur.execute(\"INSERT INTO Products VALUES (2,'HC-SR-04',32.50, 10, 'Hardware','Ultrasonic sensor',65)\")\n",
    "# cur.execute(\"INSERT INTO Products VALUES (3,'Female-Female Jumper Cable',22.50, 10, 'Hardware' ,'Wire to connect the different stuff',45)\")\n",
    "# cur.execute(\"INSERT INTO Products VALUES (4,'Male-Male Jumper Cable',12.50, 10, 'Hardware' , 'Wire to connect the different stuff', 325)\")\n",
    "# cur.execute(\"INSERT INTO Products VALUES (5,'Wheel Encoding',10, 10, 'Hardware' ,'Uses interrupt to let you know your speed' ,15)\")\n",
    "# con.commit()"
   ]
  },
  {
   "cell_type": "code",
   "execution_count": 5,
   "id": "eab456bc",
   "metadata": {},
   "outputs": [],
   "source": [
    "# We can also close the connection if we are done with it.\n",
    "# Just be sure any changes have been committed or they will be lost.\n",
    "con.close()"
   ]
  }
 ],
 "metadata": {
  "kernelspec": {
   "display_name": "Python 3 (ipykernel)",
   "language": "python",
   "name": "python3"
  },
  "language_info": {
   "codemirror_mode": {
    "name": "ipython",
    "version": 3
   },
   "file_extension": ".py",
   "mimetype": "text/x-python",
   "name": "python",
   "nbconvert_exporter": "python",
   "pygments_lexer": "ipython3",
   "version": "3.10.0"
  }
 },
 "nbformat": 4,
 "nbformat_minor": 5
}
